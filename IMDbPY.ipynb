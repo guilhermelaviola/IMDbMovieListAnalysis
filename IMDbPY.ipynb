{
  "nbformat": 4,
  "nbformat_minor": 0,
  "metadata": {
    "colab": {
      "provenance": [],
      "authorship_tag": "ABX9TyM5qnV/yfPh+XIGwzFQ08fz",
      "include_colab_link": true
    },
    "kernelspec": {
      "name": "python3",
      "display_name": "Python 3"
    },
    "language_info": {
      "name": "python"
    }
  },
  "cells": [
    {
      "cell_type": "markdown",
      "metadata": {
        "id": "view-in-github",
        "colab_type": "text"
      },
      "source": [
        "<a href=\"https://colab.research.google.com/github/guilhermelaviola/MovieRatingAnalysis/blob/main/IMDbPY.ipynb\" target=\"_parent\"><img src=\"https://colab.research.google.com/assets/colab-badge.svg\" alt=\"Open In Colab\"/></a>"
      ]
    },
    {
      "cell_type": "code",
      "execution_count": 1,
      "metadata": {
        "colab": {
          "base_uri": "https://localhost:8080/"
        },
        "id": "amoidSlOSGK_",
        "outputId": "1ccab8ae-c40d-4e6c-d619-f2fabe86ace5"
      },
      "outputs": [
        {
          "output_type": "stream",
          "name": "stdout",
          "text": [
            "Collecting imdbpy\n",
            "  Downloading IMDbPY-2022.7.9-py3-none-any.whl (1.2 kB)\n",
            "Collecting cinemagoer (from imdbpy)\n",
            "  Downloading cinemagoer-2023.5.1-py3-none-any.whl (297 kB)\n",
            "\u001b[2K     \u001b[90m━━━━━━━━━━━━━━━━━━━━━━━━━━━━━━━━━━━━━━━━\u001b[0m \u001b[32m297.2/297.2 kB\u001b[0m \u001b[31m5.6 MB/s\u001b[0m eta \u001b[36m0:00:00\u001b[0m\n",
            "\u001b[?25hRequirement already satisfied: SQLAlchemy in /usr/local/lib/python3.10/dist-packages (from cinemagoer->imdbpy) (2.0.27)\n",
            "Requirement already satisfied: lxml in /usr/local/lib/python3.10/dist-packages (from cinemagoer->imdbpy) (4.9.4)\n",
            "Requirement already satisfied: typing-extensions>=4.6.0 in /usr/local/lib/python3.10/dist-packages (from SQLAlchemy->cinemagoer->imdbpy) (4.9.0)\n",
            "Requirement already satisfied: greenlet!=0.4.17 in /usr/local/lib/python3.10/dist-packages (from SQLAlchemy->cinemagoer->imdbpy) (3.0.3)\n",
            "Installing collected packages: cinemagoer, imdbpy\n",
            "Successfully installed cinemagoer-2023.5.1 imdbpy-2022.7.9\n"
          ]
        }
      ],
      "source": [
        "pip install imdbpy"
      ]
    },
    {
      "cell_type": "code",
      "source": [
        "# Importing all the necessary libraries:\n",
        "import imdb"
      ],
      "metadata": {
        "id": "ENnNw7QWSSj8"
      },
      "execution_count": 2,
      "outputs": []
    },
    {
      "cell_type": "code",
      "source": [
        "# Creating an instance of IMDb:\n",
        "ins = imdb.IMDb()"
      ],
      "metadata": {
        "id": "24epvvPfSeiE"
      },
      "execution_count": 3,
      "outputs": []
    },
    {
      "cell_type": "code",
      "source": [
        "# Testing:\n",
        "# Defining a movie id for a search test:\n",
        "id = '0086250'\n",
        "\n",
        "# Getting and displaying the title based on its id:\n",
        "series = ins.get_movie(id)\n",
        "print(series)"
      ],
      "metadata": {
        "colab": {
          "base_uri": "https://localhost:8080/"
        },
        "id": "V1u71NoTS3Pm",
        "outputId": "2633b513-8499-43f9-acc2-debd6fbd7a68"
      },
      "execution_count": 4,
      "outputs": [
        {
          "output_type": "stream",
          "name": "stdout",
          "text": [
            "Scarface\n"
          ]
        }
      ]
    },
    {
      "cell_type": "code",
      "source": [
        "# Getting and displaying the movie genre(s) of the title above:\n",
        "genres = series.data['genres']\n",
        "print(genres)"
      ],
      "metadata": {
        "id": "1M9_QmyNwfEK",
        "outputId": "536cb8ea-4930-4a06-ffd3-06693569b2bf",
        "colab": {
          "base_uri": "https://localhost:8080/"
        }
      },
      "execution_count": 5,
      "outputs": [
        {
          "output_type": "stream",
          "name": "stdout",
          "text": [
            "['Crime', 'Drama']\n"
          ]
        }
      ]
    },
    {
      "cell_type": "code",
      "source": [
        "# Getting and displaying the language codes present in the title above:\n",
        "codes = series.data['language codes']\n",
        "print(codes)"
      ],
      "metadata": {
        "id": "ZgNlrLTAUZSl",
        "outputId": "ba6ab377-e598-49c8-8c09-3a118c26ce62",
        "colab": {
          "base_uri": "https://localhost:8080/"
        }
      },
      "execution_count": 6,
      "outputs": [
        {
          "output_type": "stream",
          "name": "stdout",
          "text": [
            "['en', 'es']\n"
          ]
        }
      ]
    },
    {
      "cell_type": "code",
      "source": [
        "# Getting and displaying the movie cast of the title above:\n",
        "cast = series.data['cast']\n",
        "print(cast)\n",
        "\n",
        "# Displaying only the first actor of the cast:\n",
        "actor = cast[0]\n",
        "print(actor)"
      ],
      "metadata": {
        "id": "VrhCzyfuxTCa",
        "outputId": "61a296bf-743b-4a4d-cb5a-4e0544ec5941",
        "colab": {
          "base_uri": "https://localhost:8080/"
        }
      },
      "execution_count": 7,
      "outputs": [
        {
          "output_type": "stream",
          "name": "stdout",
          "text": [
            "[<Person id:0000199[http] name:_Al Pacino_>, <Person id:0000874[http] name:_Steven Bauer_>, <Person id:0000201[http] name:_Michelle Pfeiffer_>, <Person id:0001512[http] name:_Mary Elizabeth Mastrantonio_>, <Person id:0005162[http] name:_Robert Loggia_>, <Person id:0173125[http] name:_Miriam Colon_>, <Person id:0000719[http] name:_F. Murray Abraham_>, <Person id:0791502[http] name:_Paul Shenar_>, <Person id:0950867[http] name:_Harris Yulin_>, <Person id:0757774[http] name:_Ángel Salazar_>, <Person id:0763274[http] name:_Arnaldo Santana_>, <Person id:0785277[http] name:_Pepe Serna_>, <Person id:0602930[http] name:_Michael P. Moran_>, <Person id:0411436[http] name:_Al Israel_>, <Person id:0389971[http] name:_Dennis Holahan_>, <Person id:0546797[http] name:_Mark Margolis_>, <Person id:0020162[http] name:_Michael Alldredge_>, <Person id:0071160[http] name:_Ted Beniades_>, <Person id:0001938[http] name:_Richard Belzer_>, <Person id:0260861[http] name:_Paul Espel_>, <Person id:0104777[http] name:_John Brandon_>, <Person id:0673637[http] name:_Tony Perez_>, <Person id:0808273[http] name:_Garnett Smith_>, <Person id:0021741[http] name:_Loren Almaguer_>, <Person id:0057006[http] name:_Gil Barreto_>, <Person id:0071471[http] name:_Heather Benna_>, <Person id:0101050[http] name:_Sue Bowser_>, <Person id:0131744[http] name:_Tina Leigh Cameron_>, <Person id:0133341[http] name:_Victor Campos_>, <Person id:0134093[http] name:_Robert Hammer Cannerday_>, <Person id:0140086[http] name:_Rene Carrasco_>, <Person id:0140390[http] name:_Albert Carrier_>, <Person id:0141715[http] name:_John Carter_>, <Person id:0143313[http] name:_Richard Caselnova_>, <Person id:0148869[http] name:_Gary Carlos Cervantes_>, <Person id:0149118[http] name:_Carlos Cestero_>, <Person id:0176196[http] name:_Johnny Contardo_>, <Person id:0176548[http] name:_Roberto Contreras_>, <Person id:0179641[http] name:_Caesar Cordova_>, <Person id:0190327[http] name:_Gregory Cruz_>, <Person id:0195210[http] name:_Dante D'Andre_>, <Person id:0217621[http] name:_Richard Delmonte_>, <Person id:0229566[http] name:_Wayne Doba_>, <Person id:3522346[http] name:_Michel François_>, <Person id:0296370[http] name:_Ben Frommer_>, <Person id:0296371[http] name:_Edward R. Frommer_>, <Person id:0303788[http] name:_John Gamble_>, <Person id:0410576[http] name:_Troy Isaacs_>, <Person id:0430692[http] name:_Ronald G. Joseph_>, <Person id:0532478[http] name:_Mario Machado_>, <Person id:0549368[http] name:_Joe Marmo_>, <Person id:0551524[http] name:_Ray Martel_>, <Person id:0564883[http] name:_John McCann_>, <Person id:0579089[http] name:_Richard Mendez_>, <Person id:0587637[http] name:_Victor Millan_>, <Person id:0602766[http] name:_Santos Morales_>, <Person id:0120878[http] name:_Mike Moroff_>, <Person id:0632836[http] name:_Angela Nisi_>, <Person id:0655693[http] name:_Manuel Padilla Jr._>, <Person id:0659621[http] name:_Tony Pann_>, <Person id:0668169[http] name:_Ilka Tanya Payán_>, <Person id:0673450[http] name:_Barbra Perez_>, <Person id:0745606[http] name:_Michael Rougas_>, <Person id:0755745[http] name:_Anthony Saenz_>, <Person id:0798316[http] name:_Geno Silva_>, <Person id:0846408[http] name:_Arnold Tafolla_>, <Person id:0848596[http] name:_Charles A. Tamburro_>, <Person id:0869939[http] name:_Jim Towers_>, <Person id:0886067[http] name:_Robert Vandenberg_>, <Person id:0945943[http] name:_Bob Yanez_>, <Person id:0007406[http] name:_Angela Aames_>, <Person id:0028793[http] name:_Nancy Lee Andrews_>, <Person id:0049893[http] name:_Dona Baldwin_>, <Person id:0072946[http] name:_Lee Benton_>, <Person id:0122998[http] name:_Cynthia Burr_>, <Person id:0165096[http] name:_Lana Clarkson_>, <Person id:0188199[http] name:_Karen Criswell_>, <Person id:0446633[http] name:_Margo Kelly_>, <Person id:0493663[http] name:_Ava Lazar_>, <Person id:0189536[http] name:_Emilia Crow_>, <Person id:0538338[http] name:_Marii Mak_>, <Person id:0605030[http] name:_Shelley Taylor Morgan_>, <Person id:0724464[http] name:_Catharine Richardson_>, <Person id:0799862[http] name:_Pat Simmons_>, <Person id:0853246[http] name:_Terri Taylor_>, <Person id:0011974[http] name:_Charlie Adiano_>, <Person id:0441772[http] name:_Lisa Katz_>, <Person id:0513046[http] name:_Jeanette Linne_>, <Person id:0584432[http] name:_Margaret Michaels_>, <Person id:0761300[http] name:_Rhonda Sandberg_>, <Person id:0002240[http] name:_Katt Shea_>, <Person id:0937857[http] name:_Marcia Wolf_>, <Person id:4888576[http] name:_Scott Atkins_>, <Person id:13946257[http] name:_Bill Baker_>, <Person id:0004242[http] name:_Fidel Castro_>, <Person id:0178795[http] name:_Lisa Coppenolle_>, <Person id:0000361[http] name:_Brian De Palma_>, <Person id:0222273[http] name:_Barclay DeVeau_>, <Person id:0001164[http] name:_Charles Durning_>, <Person id:0001240[http] name:_Dennis Franz_>, <Person id:0318838[http] name:_Linda Gillen_>, <Person id:2893110[http] name:_Bart Greene_>, <Person id:4747261[http] name:_Raven Grey Eagle_>, <Person id:0363193[http] name:_Bob Harks_>, <Person id:0001344[http] name:_Gregg Henry_>, <Person id:0397441[http] name:_Kevyn Major Howard_>, <Person id:0419163[http] name:_Richard Jasen_>, <Person id:0455437[http] name:_Henry Kingi_>, <Person id:7610135[http] name:_Tammy Lynn Leppert_>, <Person id:6031202[http] name:_Gigi Martone_>, <Person id:0434560[http] name:_Antone Pagán_>, <Person id:0711840[http] name:_Brett Ratner_>, <Person id:0730834[http] name:_Arnold Roberts_>, <Person id:3072057[http] name:_Randall Rutledge_>, <Person id:0794269[http] name:_Marcus Shirock_>, <Person id:3046500[http] name:_Jimmy Star_>, <Person id:0873135[http] name:_Nick Trisko_>, <Person id:0913283[http] name:_Max Wasa_>]\n",
            "Al Pacino\n"
          ]
        }
      ]
    },
    {
      "cell_type": "code",
      "source": [
        "# Defining actor:\n",
        "actor_code = '0000134'\n",
        "\n",
        "# Getting the actor obkecy and displaying it:\n",
        "actor = ins.get_person(actor_code)\n",
        "print(actor)"
      ],
      "metadata": {
        "id": "vz29iC6hz15O",
        "outputId": "ead1de83-1543-4966-b17e-1f38051d50ac",
        "colab": {
          "base_uri": "https://localhost:8080/"
        }
      },
      "execution_count": 8,
      "outputs": [
        {
          "output_type": "stream",
          "name": "stdout",
          "text": [
            "Robert De Niro\n"
          ]
        }
      ]
    },
    {
      "cell_type": "code",
      "source": [
        "# Getting and displaying the actor birth place:\n",
        "filmography = ins.get_person_filmography('0000134')\n",
        "\n",
        "# Printing movie names:\n",
        "for i in range(5):\n",
        "  movie = filmography['data']['filmography'][0]['actor'][i]\n",
        "  print(movie)"
      ],
      "metadata": {
        "id": "bGvHIhoPxLwN",
        "outputId": "8e338fcc-9e87-4a0d-dee2-f9c52b0f83d7",
        "colab": {
          "base_uri": "https://localhost:8080/",
          "height": 193
        }
      },
      "execution_count": 11,
      "outputs": [
        {
          "output_type": "error",
          "ename": "KeyError",
          "evalue": "0",
          "traceback": [
            "\u001b[0;31m---------------------------------------------------------------------------\u001b[0m",
            "\u001b[0;31mKeyError\u001b[0m                                  Traceback (most recent call last)",
            "\u001b[0;32m<ipython-input-11-43510e0a8f46>\u001b[0m in \u001b[0;36m<cell line: 5>\u001b[0;34m()\u001b[0m\n\u001b[1;32m      4\u001b[0m \u001b[0;31m# Printing movie names:\u001b[0m\u001b[0;34m\u001b[0m\u001b[0;34m\u001b[0m\u001b[0m\n\u001b[1;32m      5\u001b[0m \u001b[0;32mfor\u001b[0m \u001b[0mi\u001b[0m \u001b[0;32min\u001b[0m \u001b[0mrange\u001b[0m\u001b[0;34m(\u001b[0m\u001b[0;36m5\u001b[0m\u001b[0;34m)\u001b[0m\u001b[0;34m:\u001b[0m\u001b[0;34m\u001b[0m\u001b[0;34m\u001b[0m\u001b[0m\n\u001b[0;32m----> 6\u001b[0;31m   \u001b[0mmovie\u001b[0m \u001b[0;34m=\u001b[0m \u001b[0mfilmography\u001b[0m\u001b[0;34m[\u001b[0m\u001b[0;34m'data'\u001b[0m\u001b[0;34m]\u001b[0m\u001b[0;34m[\u001b[0m\u001b[0;34m'filmography'\u001b[0m\u001b[0;34m]\u001b[0m\u001b[0;34m[\u001b[0m\u001b[0;36m0\u001b[0m\u001b[0;34m]\u001b[0m\u001b[0;34m[\u001b[0m\u001b[0;34m'actor'\u001b[0m\u001b[0;34m]\u001b[0m\u001b[0;34m[\u001b[0m\u001b[0mi\u001b[0m\u001b[0;34m]\u001b[0m\u001b[0;34m\u001b[0m\u001b[0;34m\u001b[0m\u001b[0m\n\u001b[0m\u001b[1;32m      7\u001b[0m   \u001b[0mprint\u001b[0m\u001b[0;34m(\u001b[0m\u001b[0mmovie\u001b[0m\u001b[0;34m)\u001b[0m\u001b[0;34m\u001b[0m\u001b[0;34m\u001b[0m\u001b[0m\n",
            "\u001b[0;31mKeyError\u001b[0m: 0"
          ]
        }
      ]
    },
    {
      "cell_type": "code",
      "source": [],
      "metadata": {
        "id": "QbM0agDh1EqQ"
      },
      "execution_count": null,
      "outputs": []
    }
  ]
}