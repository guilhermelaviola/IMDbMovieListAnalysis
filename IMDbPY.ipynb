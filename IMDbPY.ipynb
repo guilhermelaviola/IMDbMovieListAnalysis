{
  "nbformat": 4,
  "nbformat_minor": 0,
  "metadata": {
    "colab": {
      "provenance": [],
      "authorship_tag": "ABX9TyPwEjJLXqvKik6oy/a2xEAL",
      "include_colab_link": true
    },
    "kernelspec": {
      "name": "python3",
      "display_name": "Python 3"
    },
    "language_info": {
      "name": "python"
    }
  },
  "cells": [
    {
      "cell_type": "markdown",
      "metadata": {
        "id": "view-in-github",
        "colab_type": "text"
      },
      "source": [
        "<a href=\"https://colab.research.google.com/github/guilhermelaviola/MovieRatingAnalysis/blob/main/IMDbPY.ipynb\" target=\"_parent\"><img src=\"https://colab.research.google.com/assets/colab-badge.svg\" alt=\"Open In Colab\"/></a>"
      ]
    },
    {
      "cell_type": "code",
      "execution_count": 1,
      "metadata": {
        "colab": {
          "base_uri": "https://localhost:8080/"
        },
        "id": "amoidSlOSGK_",
        "outputId": "3ba25470-3be0-4de9-9a53-f910884f984f"
      },
      "outputs": [
        {
          "output_type": "stream",
          "name": "stdout",
          "text": [
            "Collecting imdbpy\n",
            "  Downloading IMDbPY-2022.7.9-py3-none-any.whl (1.2 kB)\n",
            "Collecting cinemagoer (from imdbpy)\n",
            "  Downloading cinemagoer-2023.5.1-py3-none-any.whl (297 kB)\n",
            "\u001b[2K     \u001b[90m━━━━━━━━━━━━━━━━━━━━━━━━━━━━━━━━━━━━━━━━\u001b[0m \u001b[32m297.2/297.2 kB\u001b[0m \u001b[31m4.6 MB/s\u001b[0m eta \u001b[36m0:00:00\u001b[0m\n",
            "\u001b[?25hRequirement already satisfied: SQLAlchemy in /usr/local/lib/python3.10/dist-packages (from cinemagoer->imdbpy) (2.0.24)\n",
            "Requirement already satisfied: lxml in /usr/local/lib/python3.10/dist-packages (from cinemagoer->imdbpy) (4.9.4)\n",
            "Requirement already satisfied: typing-extensions>=4.2.0 in /usr/local/lib/python3.10/dist-packages (from SQLAlchemy->cinemagoer->imdbpy) (4.5.0)\n",
            "Requirement already satisfied: greenlet!=0.4.17 in /usr/local/lib/python3.10/dist-packages (from SQLAlchemy->cinemagoer->imdbpy) (3.0.3)\n",
            "Installing collected packages: cinemagoer, imdbpy\n",
            "Successfully installed cinemagoer-2023.5.1 imdbpy-2022.7.9\n"
          ]
        }
      ],
      "source": [
        "pip install imdbpy"
      ]
    },
    {
      "cell_type": "code",
      "source": [
        "# Importing all the necessary libraries:\n",
        "import imdb"
      ],
      "metadata": {
        "id": "ENnNw7QWSSj8"
      },
      "execution_count": 3,
      "outputs": []
    },
    {
      "cell_type": "code",
      "source": [
        "# Creating an instance of IMDb:\n",
        "ins = imdb.IMDb()"
      ],
      "metadata": {
        "id": "24epvvPfSeiE"
      },
      "execution_count": 6,
      "outputs": []
    },
    {
      "cell_type": "code",
      "source": [
        "# Testing:\n",
        "\n",
        "# Defining a movie id for a search test:\n",
        "id = '0086250'\n",
        "\n",
        "# Getting and displaying the title based on its id:\n",
        "series = ins.get_movie(id)\n",
        "print(series)\n",
        "\n",
        "# Getting and displaying movie genre of the title above:\n",
        "genres = series.data['genres']\n",
        "print(genres)"
      ],
      "metadata": {
        "colab": {
          "base_uri": "https://localhost:8080/"
        },
        "id": "V1u71NoTS3Pm",
        "outputId": "4e334732-1a09-4429-82d1-c83431e22893"
      },
      "execution_count": 12,
      "outputs": [
        {
          "output_type": "stream",
          "name": "stdout",
          "text": [
            "Scarface\n",
            "['Crime', 'Drama']\n"
          ]
        }
      ]
    },
    {
      "cell_type": "code",
      "source": [],
      "metadata": {
        "id": "ZgNlrLTAUZSl"
      },
      "execution_count": null,
      "outputs": []
    }
  ]
}