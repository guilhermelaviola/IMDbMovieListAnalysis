{
  "nbformat": 4,
  "nbformat_minor": 0,
  "metadata": {
    "colab": {
      "provenance": [],
      "authorship_tag": "ABX9TyPwJSQjhNwjLMVgyJJlZC7t",
      "include_colab_link": true
    },
    "kernelspec": {
      "name": "python3",
      "display_name": "Python 3"
    },
    "language_info": {
      "name": "python"
    }
  },
  "cells": [
    {
      "cell_type": "markdown",
      "metadata": {
        "id": "view-in-github",
        "colab_type": "text"
      },
      "source": [
        "<a href=\"https://colab.research.google.com/github/guilhermelaviola/IMDbMovieListAnalysis/blob/main/IMDbPY.ipynb\" target=\"_parent\"><img src=\"https://colab.research.google.com/assets/colab-badge.svg\" alt=\"Open In Colab\"/></a>"
      ]
    },
    {
      "cell_type": "code",
      "execution_count": 18,
      "metadata": {
        "colab": {
          "base_uri": "https://localhost:8080/"
        },
        "id": "amoidSlOSGK_",
        "outputId": "7ce9467f-c118-4e08-eda5-9539a044dd0e"
      },
      "outputs": [
        {
          "output_type": "stream",
          "name": "stdout",
          "text": [
            "Requirement already satisfied: IMDbPY in /usr/local/lib/python3.10/dist-packages (2022.7.9)\n",
            "Requirement already satisfied: cinemagoer in /usr/local/lib/python3.10/dist-packages (from IMDbPY) (2023.5.1)\n",
            "Requirement already satisfied: SQLAlchemy in /usr/local/lib/python3.10/dist-packages (from cinemagoer->IMDbPY) (2.0.36)\n",
            "Requirement already satisfied: lxml in /usr/local/lib/python3.10/dist-packages (from cinemagoer->IMDbPY) (5.3.0)\n",
            "Requirement already satisfied: typing-extensions>=4.6.0 in /usr/local/lib/python3.10/dist-packages (from SQLAlchemy->cinemagoer->IMDbPY) (4.12.2)\n",
            "Requirement already satisfied: greenlet!=0.4.17 in /usr/local/lib/python3.10/dist-packages (from SQLAlchemy->cinemagoer->IMDbPY) (3.1.1)\n"
          ]
        }
      ],
      "source": [
        "pip install IMDbPY"
      ]
    },
    {
      "cell_type": "code",
      "source": [
        "# Importing all the necessary libraries:\n",
        "from imdb import IMDb"
      ],
      "metadata": {
        "id": "ENnNw7QWSSj8"
      },
      "execution_count": 19,
      "outputs": []
    },
    {
      "cell_type": "code",
      "source": [
        "# Initializing IMDbPY:\n",
        "ia = IMDb()"
      ],
      "metadata": {
        "id": "24epvvPfSeiE"
      },
      "execution_count": 20,
      "outputs": []
    },
    {
      "cell_type": "code",
      "source": [
        "# Defining the list of actors:\n",
        "actors = ['Robert De Diro', 'Al Pacino', 'Harvey Keitel']"
      ],
      "metadata": {
        "id": "V1u71NoTS3Pm"
      },
      "execution_count": 21,
      "outputs": []
    },
    {
      "cell_type": "code",
      "source": [
        "# Defining the dictionary to store the best-rated movie for each actor:\n",
        "best_movies = {}"
      ],
      "metadata": {
        "id": "1M9_QmyNwfEK"
      },
      "execution_count": 22,
      "outputs": []
    },
    {
      "cell_type": "code",
      "source": [
        "# Looping through each actor:\n",
        "for actor_name in actors:\n",
        "    try:\n",
        "        # Searching for the actor:\n",
        "        people = ia.search_person(actor_name)\n",
        "        if not people:\n",
        "            print(f\"No results found for {actor_name}.\")\n",
        "            continue\n",
        "\n",
        "        # Getting the first result and fetching detailed info:\n",
        "        actor = people[0]\n",
        "        ia.update(actor)\n",
        "\n",
        "        # Getting the filmography:\n",
        "        filmography = actor.get('filmography', {}).get('actor', [])  # Use 'actress' key for female actors if needed.\n",
        "\n",
        "        # Initializing variables to track the best-rated movie:\n",
        "        highest_rating = 0\n",
        "        best_movie = None\n",
        "\n",
        "        # Looping through the movies in the filmography:\n",
        "        for movie in filmography:\n",
        "            try:\n",
        "                # Fetching detailed movie info:\n",
        "                ia.update(movie)\n",
        "                rating = movie.get('rating', 0)  # Getting rating or default to 0.\n",
        "\n",
        "                # Checking if this movie has the highest rating:\n",
        "                if rating > highest_rating:\n",
        "                    highest_rating = rating\n",
        "                    best_movie = movie\n",
        "            except Exception as e:\n",
        "                print(f\"Error fetching data for movie {movie}: {e}\")\n",
        "\n",
        "        # Storing the best-rated movie for this actor:\n",
        "        if best_movie:\n",
        "            best_movies[actor_name] = {\n",
        "                \"movie\": best_movie['title'],\n",
        "                \"rating\": highest_rating,\n",
        "                \"year\": best_movie.get('year', 'N/A')\n",
        "            }\n",
        "    except Exception as e:\n",
        "        print(f\"Error processing actor {actor_name}: {e}\")"
      ],
      "metadata": {
        "id": "ZgNlrLTAUZSl"
      },
      "execution_count": 23,
      "outputs": []
    },
    {
      "cell_type": "code",
      "source": [
        "# Displaying the results:\n",
        "print(\"\\nBest Rated Movies:\")\n",
        "for actor, details in best_movies.items():\n",
        "    print(f\"{actor}: {details['movie']} ({details['year']}) - Rating: {details['rating']}\")"
      ],
      "metadata": {
        "id": "VrhCzyfuxTCa",
        "outputId": "d3b989c9-f33a-403a-a0ba-d2b224aead3d",
        "colab": {
          "base_uri": "https://localhost:8080/"
        }
      },
      "execution_count": 24,
      "outputs": [
        {
          "output_type": "stream",
          "name": "stdout",
          "text": [
            "\n",
            "Best Rated Movies:\n"
          ]
        }
      ]
    }
  ]
}