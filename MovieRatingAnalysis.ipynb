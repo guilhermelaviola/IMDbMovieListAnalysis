{
  "nbformat": 4,
  "nbformat_minor": 0,
  "metadata": {
    "colab": {
      "provenance": [],
      "authorship_tag": "ABX9TyNj9IpddStCYMkEB8l23t3K",
      "include_colab_link": true
    },
    "kernelspec": {
      "name": "python3",
      "display_name": "Python 3"
    },
    "language_info": {
      "name": "python"
    }
  },
  "cells": [
    {
      "cell_type": "markdown",
      "metadata": {
        "id": "view-in-github",
        "colab_type": "text"
      },
      "source": [
        "<a href=\"https://colab.research.google.com/github/guilhermelaviola/MovieRatingAnalysis/blob/main/MovieRatingAnalysis.ipynb\" target=\"_parent\"><img src=\"https://colab.research.google.com/assets/colab-badge.svg\" alt=\"Open In Colab\"/></a>"
      ]
    },
    {
      "cell_type": "code",
      "execution_count": null,
      "metadata": {
        "id": "HoMWaaDLwfRs"
      },
      "outputs": [],
      "source": [
        "# First let's import all the necessary libraries:\n",
        "import numpy as np\n",
        "import pandas as pd"
      ]
    },
    {
      "cell_type": "code",
      "source": [
        "# In this example we're gonna use a file that contains data abot the\n",
        "# movie id, title and its genre.\n",
        "# The other file contains the user id, movie id, ratings given by the user\n",
        "# and its timestamps.\n",
        "\n",
        "#Importing the movie dataset:\n",
        "movies = pd.read_csv('movies.dat', delimiter = '::')\n",
        "print(movies.head())"
      ],
      "metadata": {
        "id": "SJ-1B4rPxiv-"
      },
      "execution_count": null,
      "outputs": []
    },
    {
      "cell_type": "code",
      "source": [
        "# Defining the column names:\n",
        "movies.columns = ['ID', 'Title', 'Genre']\n",
        "# Displaying the dataset after the change:\n",
        "print(movies.head())"
      ],
      "metadata": {
        "id": "CPlSsJo5yIbx"
      },
      "execution_count": null,
      "outputs": []
    },
    {
      "cell_type": "code",
      "source": [
        "# Importing the ratings dataset:\n",
        "ratings = pd.read_csv('ratings.dat', delimiter = '::')\n",
        "print(ratings.head())"
      ],
      "metadata": {
        "id": "m4ugMsC_yi8h"
      },
      "execution_count": null,
      "outputs": []
    },
    {
      "cell_type": "code",
      "source": [
        "# Defining the column names for ratings dataset:\n",
        "ratings.columns = ['User', 'ID', 'Ratings', 'Timestamp']\n",
        "print(ratings.head())"
      ],
      "metadata": {
        "id": "9oFd_6XvzMXg"
      },
      "execution_count": null,
      "outputs": []
    }
  ]
}